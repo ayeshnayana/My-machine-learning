{
  "nbformat": 4,
  "nbformat_minor": 0,
  "metadata": {
    "colab": {
      "name": "tensorflow_tutorial.ipynb",
      "provenance": [],
      "authorship_tag": "ABX9TyN2qDR70DZ62wtyRPoXkL+m",
      "include_colab_link": true
    },
    "kernelspec": {
      "name": "python3",
      "display_name": "Python 3"
    },
    "language_info": {
      "name": "python"
    }
  },
  "cells": [
    {
      "cell_type": "markdown",
      "metadata": {
        "id": "view-in-github",
        "colab_type": "text"
      },
      "source": [
        "<a href=\"https://colab.research.google.com/github/ayeshnayana/My-machine-learning/blob/master/tensorflow_tutorial.ipynb\" target=\"_parent\"><img src=\"https://colab.research.google.com/assets/colab-badge.svg\" alt=\"Open In Colab\"/></a>"
      ]
    },
    {
      "cell_type": "markdown",
      "source": [
        "# Introduction"
      ],
      "metadata": {
        "id": "iKLJ52uDbk2A"
      }
    },
    {
      "cell_type": "markdown",
      "source": [
        "Since we are using the google colab we have to pre define the following. If you are using other programs like jupyter or pycharm this line is not required\n",
        "\n",
        "%tensorflow_version 2.x\n"
      ],
      "metadata": {
        "id": "jgpxY988XdcR"
      }
    },
    {
      "cell_type": "code",
      "source": [
        "%tensorflow_version 2.x"
      ],
      "metadata": {
        "id": "hZDK67NwXRV2"
      },
      "execution_count": 2,
      "outputs": []
    },
    {
      "cell_type": "code",
      "source": [
        "import tensorflow as tf\n",
        "print(tf.version) # to make sure we are using the correct version of tensorflow"
      ],
      "metadata": {
        "colab": {
          "base_uri": "https://localhost:8080/"
        },
        "id": "VrjhTJcLWrZG",
        "outputId": "1170416d-9a28-4e65-8071-6397d8b85512"
      },
      "execution_count": 3,
      "outputs": [
        {
          "output_type": "stream",
          "name": "stdout",
          "text": [
            "<module 'tensorflow._api.v2.version' from '/usr/local/lib/python3.7/dist-packages/tensorflow/_api/v2/version/__init__.py'>\n"
          ]
        }
      ]
    },
    {
      "cell_type": "markdown",
      "source": [
        "Tensor is a generalization of a vector for n dimensions.\n",
        "In tensorflow each tensor represents a partially defined computation that will eventually produce a value.\n",
        "\n",
        "For example, tensor1= tensor2+tensor3 does not executed immidiately. We just use a representation or the relationship between tensor1, tensor2 and tensor3.\n",
        "These tensor representations are kmnown as a graph. When executing a section or large set of these representions we call it a session.\n",
        "\n",
        "Finally, when we execute whole session each of these tensor relationships will be evaluated and produce a value."
      ],
      "metadata": {
        "id": "RTJhgdCPZNwE"
      }
    },
    {
      "cell_type": "markdown",
      "source": [
        "Each tensor has two main attributes \n",
        "\n",
        "<b>data types</b>: float 32, int32, strings and others\n",
        "\n",
        "<b>shape</b>: Represents the dimension of data"
      ],
      "metadata": {
        "id": "SeSF1crCaMJB"
      }
    },
    {
      "cell_type": "markdown",
      "source": [
        "# Creating a tensor\n",
        "\n",
        "Below is an example of a tensor"
      ],
      "metadata": {
        "id": "iFaacWeka_DM"
      }
    },
    {
      "cell_type": "code",
      "source": [
        "string = tf.Variable(\"this is a string\", tf.string)\n",
        "number = tf.Variable(324, tf.int16)\n",
        "float_num = tf.Variable(3.567, tf.float64)"
      ],
      "metadata": {
        "id": "LLduHfV5bIZe"
      },
      "execution_count": 4,
      "outputs": []
    },
    {
      "cell_type": "markdown",
      "source": [
        "# Rank/Degree of tensors"
      ],
      "metadata": {
        "id": "vhH4T7YscQCs"
      }
    },
    {
      "cell_type": "markdown",
      "source": [
        "Both rank and degree of a tensor is mutable(exchangeble). Simply, these terms tells us how many dimensions does a given tensor have.\n",
        "\n",
        "For example, the tensors that are defined in the previouse section are scalars. So they have zero dimensions. We call them scalars because they only contain one information such as \"string, int\" or \"float\".\n",
        "\n",
        "But if we aggragate scalars and create an array then that would be a tensor of rank one. This is also known as a vector.\n",
        "\n",
        "Now we can ggragate more vectors toghether. \n",
        "\n",
        "For example, if we aggragate two vectors we are making a matrix and this is a tensor of rank2. Like wise we can add more dimensionality. For example, 3d matrices represents a tensor of rank 3"
      ],
      "metadata": {
        "id": "YE7BQcjCcYSo"
      }
    },
    {
      "cell_type": "code",
      "source": [
        "rank1_tensor = tf.Variable([\"tests\", \"ok\", \"tim\"], tf.string)\n",
        "rank2_tensor = tf.Variable([[\"tests\", \"ok\", \"tim\"], [\"store\", \"food\", \"eat\"]], tf.string)"
      ],
      "metadata": {
        "id": "ON7xZyUZbgZj"
      },
      "execution_count": 11,
      "outputs": []
    },
    {
      "cell_type": "markdown",
      "source": [
        "To detemine the rank of a tensor: tf.rank(<tensor_name>)"
      ],
      "metadata": {
        "id": "czVRe64PejHL"
      }
    },
    {
      "cell_type": "code",
      "source": [
        "tf.rank(rank1_tensor)"
      ],
      "metadata": {
        "colab": {
          "base_uri": "https://localhost:8080/"
        },
        "id": "qZ1UV6BXdtvs",
        "outputId": "576508d2-264e-45f1-c50c-6d77abfad5f1"
      },
      "execution_count": 7,
      "outputs": [
        {
          "output_type": "execute_result",
          "data": {
            "text/plain": [
              "<tf.Tensor: shape=(), dtype=int32, numpy=1>"
            ]
          },
          "metadata": {},
          "execution_count": 7
        }
      ]
    },
    {
      "cell_type": "markdown",
      "source": [
        "# Shape of a tensor"
      ],
      "metadata": {
        "id": "CLO9aGRqe_Ki"
      }
    },
    {
      "cell_type": "markdown",
      "source": [
        "To get the shape of a tensor we use shape attribute"
      ],
      "metadata": {
        "id": "VEsbFzg9fDwZ"
      }
    },
    {
      "cell_type": "code",
      "source": [
        "rank2_tensor.shape"
      ],
      "metadata": {
        "colab": {
          "base_uri": "https://localhost:8080/"
        },
        "id": "nD2_8dqrexOm",
        "outputId": "94acf29b-5acb-4bc1-9306-96c9f3c38913"
      },
      "execution_count": 12,
      "outputs": [
        {
          "output_type": "execute_result",
          "data": {
            "text/plain": [
              "TensorShape([2, 3])"
            ]
          },
          "metadata": {},
          "execution_count": 12
        }
      ]
    },
    {
      "cell_type": "markdown",
      "source": [
        "# Changing the shape of a tensor"
      ],
      "metadata": {
        "id": "Rya_5bB4tIPi"
      }
    },
    {
      "cell_type": "code",
      "source": [
        "tensor1 = tf.ones([1,2,3]) # tf.ones() creates a tensor of shape [1,2,3] full of ones\n",
        "tensor2 = tf.reshape(tensor1, [2,3,1]) # reshape the tensor to shape [2,3,1]\n",
        "tensor3 = tf.reshape(tensor2, [3,-1]) # when -1 is used the tf will automatically determine what should be the numebr of columns based on the number of elements \n",
        "\n",
        "# in the thiord example we define the tensor to have 3 rows but the tensor2 has only 6 elements. So tf automatically detemnine that the number of rows shouldbe 2"
      ],
      "metadata": {
        "id": "WXlTIiH9fKY-"
      },
      "execution_count": 16,
      "outputs": []
    },
    {
      "cell_type": "code",
      "source": [
        "tensor3"
      ],
      "metadata": {
        "colab": {
          "base_uri": "https://localhost:8080/"
        },
        "id": "Po50oCiRt-wa",
        "outputId": "55be8266-381a-430d-9b84-0c0a3d9d2710"
      },
      "execution_count": 14,
      "outputs": [
        {
          "output_type": "execute_result",
          "data": {
            "text/plain": [
              "<tf.Tensor: shape=(3, 2), dtype=float32, numpy=\n",
              "array([[1., 1.],\n",
              "       [1., 1.],\n",
              "       [1., 1.]], dtype=float32)>"
            ]
          },
          "metadata": {},
          "execution_count": 14
        }
      ]
    },
    {
      "cell_type": "code",
      "source": [
        "t = tf.ones([5,5,4,4])\n",
        "t =tf.reshape(t, [100,-1])\n",
        "print(t)"
      ],
      "metadata": {
        "colab": {
          "base_uri": "https://localhost:8080/"
        },
        "id": "82G2S7Ndzn66",
        "outputId": "10d7fe1f-3ba5-4288-9722-8197945b3128"
      },
      "execution_count": 25,
      "outputs": [
        {
          "output_type": "stream",
          "name": "stdout",
          "text": [
            "tf.Tensor(\n",
            "[[1. 1. 1. 1.]\n",
            " [1. 1. 1. 1.]\n",
            " [1. 1. 1. 1.]\n",
            " [1. 1. 1. 1.]\n",
            " [1. 1. 1. 1.]\n",
            " [1. 1. 1. 1.]\n",
            " [1. 1. 1. 1.]\n",
            " [1. 1. 1. 1.]\n",
            " [1. 1. 1. 1.]\n",
            " [1. 1. 1. 1.]\n",
            " [1. 1. 1. 1.]\n",
            " [1. 1. 1. 1.]\n",
            " [1. 1. 1. 1.]\n",
            " [1. 1. 1. 1.]\n",
            " [1. 1. 1. 1.]\n",
            " [1. 1. 1. 1.]\n",
            " [1. 1. 1. 1.]\n",
            " [1. 1. 1. 1.]\n",
            " [1. 1. 1. 1.]\n",
            " [1. 1. 1. 1.]\n",
            " [1. 1. 1. 1.]\n",
            " [1. 1. 1. 1.]\n",
            " [1. 1. 1. 1.]\n",
            " [1. 1. 1. 1.]\n",
            " [1. 1. 1. 1.]\n",
            " [1. 1. 1. 1.]\n",
            " [1. 1. 1. 1.]\n",
            " [1. 1. 1. 1.]\n",
            " [1. 1. 1. 1.]\n",
            " [1. 1. 1. 1.]\n",
            " [1. 1. 1. 1.]\n",
            " [1. 1. 1. 1.]\n",
            " [1. 1. 1. 1.]\n",
            " [1. 1. 1. 1.]\n",
            " [1. 1. 1. 1.]\n",
            " [1. 1. 1. 1.]\n",
            " [1. 1. 1. 1.]\n",
            " [1. 1. 1. 1.]\n",
            " [1. 1. 1. 1.]\n",
            " [1. 1. 1. 1.]\n",
            " [1. 1. 1. 1.]\n",
            " [1. 1. 1. 1.]\n",
            " [1. 1. 1. 1.]\n",
            " [1. 1. 1. 1.]\n",
            " [1. 1. 1. 1.]\n",
            " [1. 1. 1. 1.]\n",
            " [1. 1. 1. 1.]\n",
            " [1. 1. 1. 1.]\n",
            " [1. 1. 1. 1.]\n",
            " [1. 1. 1. 1.]\n",
            " [1. 1. 1. 1.]\n",
            " [1. 1. 1. 1.]\n",
            " [1. 1. 1. 1.]\n",
            " [1. 1. 1. 1.]\n",
            " [1. 1. 1. 1.]\n",
            " [1. 1. 1. 1.]\n",
            " [1. 1. 1. 1.]\n",
            " [1. 1. 1. 1.]\n",
            " [1. 1. 1. 1.]\n",
            " [1. 1. 1. 1.]\n",
            " [1. 1. 1. 1.]\n",
            " [1. 1. 1. 1.]\n",
            " [1. 1. 1. 1.]\n",
            " [1. 1. 1. 1.]\n",
            " [1. 1. 1. 1.]\n",
            " [1. 1. 1. 1.]\n",
            " [1. 1. 1. 1.]\n",
            " [1. 1. 1. 1.]\n",
            " [1. 1. 1. 1.]\n",
            " [1. 1. 1. 1.]\n",
            " [1. 1. 1. 1.]\n",
            " [1. 1. 1. 1.]\n",
            " [1. 1. 1. 1.]\n",
            " [1. 1. 1. 1.]\n",
            " [1. 1. 1. 1.]\n",
            " [1. 1. 1. 1.]\n",
            " [1. 1. 1. 1.]\n",
            " [1. 1. 1. 1.]\n",
            " [1. 1. 1. 1.]\n",
            " [1. 1. 1. 1.]\n",
            " [1. 1. 1. 1.]\n",
            " [1. 1. 1. 1.]\n",
            " [1. 1. 1. 1.]\n",
            " [1. 1. 1. 1.]\n",
            " [1. 1. 1. 1.]\n",
            " [1. 1. 1. 1.]\n",
            " [1. 1. 1. 1.]\n",
            " [1. 1. 1. 1.]\n",
            " [1. 1. 1. 1.]\n",
            " [1. 1. 1. 1.]\n",
            " [1. 1. 1. 1.]\n",
            " [1. 1. 1. 1.]\n",
            " [1. 1. 1. 1.]\n",
            " [1. 1. 1. 1.]\n",
            " [1. 1. 1. 1.]\n",
            " [1. 1. 1. 1.]\n",
            " [1. 1. 1. 1.]\n",
            " [1. 1. 1. 1.]\n",
            " [1. 1. 1. 1.]\n",
            " [1. 1. 1. 1.]], shape=(100, 4), dtype=float32)\n"
          ]
        }
      ]
    },
    {
      "cell_type": "markdown",
      "source": [
        "# Types of tensors"
      ],
      "metadata": {
        "id": "284TkF6dwlQZ"
      }
    },
    {
      "cell_type": "markdown",
      "source": [
        "-Variable\n",
        "\n",
        "-Constant\n",
        "\n",
        "-Placeholder\n",
        "\n",
        "-SpaceTensor\n",
        "\n",
        "except the Variable all the other types of tensors are immutable(cannot be change during the execution)\n"
      ],
      "metadata": {
        "id": "vLEziGe7wpij"
      }
    },
    {
      "cell_type": "markdown",
      "source": [
        "# Evaluating tensors"
      ],
      "metadata": {
        "id": "kzvd02yLxgnr"
      }
    },
    {
      "cell_type": "markdown",
      "source": [
        "To evaluate the tensor relation we use a session. The tensor representaions are stored in graphs and in a session we evaluate these graphs.\n",
        "\n",
        "To initaite a session we use the following defould block of code"
      ],
      "metadata": {
        "id": "_05MyLIBxq1r"
      }
    },
    {
      "cell_type": "code",
      "source": [
        "with tf.Session() as sess: # Create a session using default graph\n",
        "  tensor.eval() # here the tensor is your variable (final output)\n",
        "\n"
      ],
      "metadata": {
        "id": "7xkyO861uAIX"
      },
      "execution_count": null,
      "outputs": []
    },
    {
      "cell_type": "markdown",
      "source": [
        "Tensorflow will automatically determine what graph it needs to evaluate to obtain the valueof the tensor"
      ],
      "metadata": {
        "id": "0rgAI350yscL"
      }
    },
    {
      "cell_type": "code",
      "source": [
        ""
      ],
      "metadata": {
        "id": "ZzIxzOGQy23W"
      },
      "execution_count": null,
      "outputs": []
    }
  ]
}